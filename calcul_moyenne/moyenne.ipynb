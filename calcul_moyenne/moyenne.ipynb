{
 "cells": [
  {
   "cell_type": "markdown",
   "metadata": {},
   "source": [
    "programme simple pour gérer les notes de 5 matières, calculer la moyenne et afficher la mention obtenue"
   ]
  },
  {
   "cell_type": "markdown",
   "metadata": {},
   "source": [
    "Realisé par : \n",
    "\n",
    "FIENI ANDY \n",
    "\n",
    "GBRA KOREKOU EMMANUEL\n",
    "\n",
    "Encadré par : M. SANOGO "
   ]
  },
  {
   "cell_type": "markdown",
   "id": "a673aebd",
   "metadata": {},
   "source": [
    "CALCUL DE MOYENNE "
   ]
  },
  {
   "cell_type": "markdown",
   "id": "8ad9804a",
   "metadata": {},
   "source": [
    "IMPORTATION DES BIBLIOTEQUES"
   ]
  },
  {
   "cell_type": "code",
   "execution_count": 1,
   "id": "79158568",
   "metadata": {},
   "outputs": [],
   "source": [
    "import csv"
   ]
  },
  {
   "cell_type": "markdown",
   "id": "9c9bdb5d",
   "metadata": {},
   "source": [
    "TABLEAU DES MATIERES et COEFFICIENTS"
   ]
  },
  {
   "cell_type": "code",
   "execution_count": 2,
   "id": "8d80862e",
   "metadata": {},
   "outputs": [],
   "source": [
    "# Définition des matières et de leurs coefficients\n",
    "matieres = {\n",
    "    \"Français\": 3,\n",
    "    \"Anglais\": 2,\n",
    "    \"Physique\": 4,\n",
    "    \"Mathématiques\": 5,\n",
    "    \"Sport\": 1\n",
    "}\n"
   ]
  },
  {
   "cell_type": "markdown",
   "id": "82a2ae3a",
   "metadata": {},
   "source": [
    "CREATION DU FICHIER CSV POUR GERER PLUSIEURS ELEVES"
   ]
  },
  {
   "cell_type": "code",
   "execution_count": 3,
   "id": "f05dd457",
   "metadata": {},
   "outputs": [],
   "source": [
    "# Création du fichier CSV avec l'en-tête si le fichier n'existe pas\n",
    "try:\n",
    "    with open(\"bulletins_etudiants.csv\", mode=\"x\", newline=\"\", encoding='utf-8') as fichier:\n",
    "        writer = csv.writer(fichier)\n",
    "        entete = [\"Nom\", \"Prénom\"] + list(matieres.keys()) + [\"Moyenne\", \"Mention\"]\n",
    "        writer.writerow(entete)\n",
    "except FileExistsError:\n",
    "    pass  # Le fichier existe déjà, on ne le recrée pas\n"
   ]
  },
  {
   "cell_type": "markdown",
   "id": "15dcad2d",
   "metadata": {},
   "source": [
    "PROGRAMME PRINCIPALE : GESTION DES ELEVES / MENTION"
   ]
  },
  {
   "cell_type": "code",
   "execution_count": null,
   "id": "5a2d657e",
   "metadata": {},
   "outputs": [
    {
     "name": "stdout",
     "output_type": "stream",
     "text": [
      "\n",
      "Saisie d’un nouveau bulletin\n",
      "La note doit être comprise entre 0 et 20.\n",
      "La note doit être comprise entre 0 et 20.\n",
      "\n",
      "Bulletin de Losah Gbra\n",
      "----------------------------------------\n",
      "Français        : 10.0/20\n",
      "Anglais         : 9.0/20\n",
      "Physique        : 15.0/20\n",
      "Mathématiques   : 2.0/20\n",
      "Sport           : 19.0/20\n",
      "----------------------------------------\n",
      "Moyenne générale : 9.13/20\n",
      "Mention          : Insuffisant\n",
      "----------------------------------------\n",
      "\n",
      "Souhaitez-vous ajouter un autre étudiant ?\n",
      "Tapez 'o' pour oui ou 'n' pour non.\n",
      "\n",
      "Les résultats ont été enregistrés dans 'bulletins_etudiants.csv'.\n",
      "Fin du programme.\n"
     ]
    }
   ],
   "source": [
    "# Boucle principale : gestion de plusieurs étudiants\n",
    "while True:\n",
    "    print(\"\\nSaisie d’un nouveau bulletin\")\n",
    "    nom = input(\"Nom de l'étudiant : \").strip().capitalize()\n",
    "    prenom = input(\"Prénom de l'étudiant : \").strip().capitalize()\n",
    "\n",
    "    notes = {}\n",
    "    total_points = 0\n",
    "    total_coeffs = 0\n",
    "\n",
    "    # Saisie et validation des notes pour chaque matière\n",
    "    for matiere, coef in matieres.items():\n",
    "        while True:\n",
    "            try:\n",
    "                note = float(input(f\"Note de {matiere} (/20) : \"))\n",
    "                if 0 <= note <= 20:\n",
    "                    notes[matiere] = note\n",
    "                    total_points += note * coef\n",
    "                    total_coeffs += coef\n",
    "                    break\n",
    "                else:\n",
    "                    print(\"La note doit être comprise entre 0 et 20.\")\n",
    "            except ValueError:\n",
    "                print(\"Entrée invalide. Veuillez saisir un nombre.\")\n",
    "\n",
    "    # Calcul de la moyenne pondérée\n",
    "    moyenne = total_points / total_coeffs\n",
    "\n",
    "    # Détermination de la mention\n",
    "    if moyenne >= 16:\n",
    "        mention = \"Très bien\"\n",
    "    elif moyenne >= 14:\n",
    "        mention = \"Bien\"\n",
    "    elif moyenne >= 12:\n",
    "        mention = \"Assez bien\"\n",
    "    elif moyenne >= 10:\n",
    "        mention = \"Passable\"\n",
    "    else:\n",
    "        mention = \"Insuffisant\"\n",
    "\n",
    "    # Affichage du bulletin\n",
    "    print(\"\\nBulletin de\", prenom, nom)\n",
    "    print(\"-\" * 40)\n",
    "    for matiere, note in notes.items():\n",
    "        print(f\"{matiere:<15} : {note}/20\")\n",
    "    print(\"-\" * 40)\n",
    "    print(f\"Moyenne générale : {moyenne:.2f}/20\")\n",
    "    print(f\"Mention          : {mention}\")\n",
    "    print(\"-\" * 40)\n",
    "\n",
    "    # Enregistrement des résultats dans le fichier CSV\n",
    "    # Vérification de l'existence du fichier avant d'écrire\n",
    "    with open(\"bulletins_etudiants.csv\", mode=\"a\", newline=\"\", encoding='utf-8') as fichier:\n",
    "        writer = csv.writer(fichier)\n",
    "        ligne = [nom, prenom] + [notes[m] for m in matieres] + [round(moyenne, 2), mention]\n",
    "        writer.writerow(ligne)\n",
    "\n",
    "    # Demander si on souhaite ajouter un autre étudiant\n",
    "    continuer = input(\"Voulez-vous ajouter un autre étudiant ? (o/n) : \").lower()\n",
    "    if continuer != 'o':\n",
    "        print(\"\\nLes résultats ont été enregistrés dans 'bulletins_etudiants.csv'.\")\n",
    "        print(\"Fin du programme.\")\n",
    "        break"
   ]
  }
 ],
 "metadata": {
  "kernelspec": {
   "display_name": "Python 3",
   "language": "python",
   "name": "python3"
  },
  "language_info": {
   "codemirror_mode": {
    "name": "ipython",
    "version": 3
   },
   "file_extension": ".py",
   "mimetype": "text/x-python",
   "name": "python",
   "nbconvert_exporter": "python",
   "pygments_lexer": "ipython3",
   "version": "3.12.2"
  }
 },
 "nbformat": 4,
 "nbformat_minor": 5
}
