{
 "cells": [
  {
   "cell_type": "markdown",
   "id": "631b3a6a",
   "metadata": {},
   "source": [
    "EXERCICE DE CLASSE PROGRAMME DE GESTION DES BUDGETS\n",
    "\n",
    "REPARTITION DES BUDGETS  // ANALYSE DES BUDGETS"
   ]
  },
  {
   "cell_type": "markdown",
   "id": "ae035d23",
   "metadata": {},
   "source": [
    "Fonction 1 : Repartition de budget"
   ]
  },
  {
   "cell_type": "code",
   "execution_count": 20,
   "id": "c6458558",
   "metadata": {},
   "outputs": [],
   "source": [
    "def repartion_budget():\n",
    "    \n",
    "    salaire = float(input(\"Entrez votre salaire: \"))\n",
    "    budget = {\n",
    "        \"loyer/ Nouriture / Transport\": 0.5 * salaire,\n",
    "        \"epargne\": 0.2 * salaire,\n",
    "        \"invest\": 0.2 * salaire,\n",
    "        \"loisir\": 0.1 * salaire,\n",
    "    }\n",
    "    print(\"Voici la repartion de votre budget:\")\n",
    "    for key, value in budget.items():\n",
    "        print(f\"{key}: {value:.1f} FCFA\")\n",
    "   \n",
    "    state = True\n",
    "\n",
    "    return state\n"
   ]
  },
  {
   "cell_type": "markdown",
   "id": "3675a1fb",
   "metadata": {},
   "source": [
    "fonction 2 : Analyse Budget\n",
    "\n",
    "-Demander ses depenses  \n",
    "-la somme donne le salaire de l'utilisateur \n",
    "\n",
    "-Toute les depenses doivent etre reparties egalement selon le taux"
   ]
  },
  {
   "cell_type": "code",
   "execution_count": 21,
   "id": "55322e88",
   "metadata": {},
   "outputs": [],
   "source": [
    "def analyse_budget():\n",
    "    \n",
    "    salaire = float(input(\"Quel est votre salaire ? \"))\n",
    "    loyer = float(input(\"Entrez le montant de votre loyer/ Nouriture / Transport: \"))\n",
    "    epargne = float(input(\"Entrez le montant de votre Epargne: \"))\n",
    "    invest = float(input(\"Entrez le montant de votre invest: \"))\n",
    "    loisirs = float(input(\"Entrez le montant de vos loisir/ action sociale: \"))\n",
    "    \n",
    "\n",
    "    if (loyer + epargne + invest + loisirs) > salaire:\n",
    "            print(\"Il est conseillé de ne pas depenser plus que votre budget total.\\n\")\n",
    "            print(\"Vous risquez de ne pas realiser vos projets et d'etre super endetter\\n\")\n",
    "    else:\n",
    "            print(\"Votre budget est bien repartie.\\n\")\n",
    "            print(\"Vous etes sur la bonne voie vers la reussite\\n\")\n",
    "    \n",
    "    \n",
    "        \n",
    "    return True"
   ]
  },
  {
   "cell_type": "markdown",
   "id": "c1d8ae5a",
   "metadata": {},
   "source": [
    "PROGRAMME PRINCIAPLE\n",
    " \n",
    " GESTION DES OPTION ET OPERATION"
   ]
  },
  {
   "cell_type": "code",
   "execution_count": 22,
   "id": "7dde692c",
   "metadata": {},
   "outputs": [
    {
     "name": "stdout",
     "output_type": "stream",
     "text": [
      "Bienvenue dans le programme de gestion de budget.\n",
      "\n",
      "1. Repartition de budget\n",
      "2. Analyse de budget\n",
      "3. Quitter\n",
      "Voici la repartion de votre budget:\n",
      "loyer/ Nouriture / Transport: 25000.0 FCFA\n",
      "epargne: 10000.0 FCFA\n",
      "invest: 10000.0 FCFA\n",
      "loisir: 5000.0 FCFA\n",
      "1. Repartition de budget\n",
      "2. Analyse de budget\n",
      "3. Quitter\n",
      "Choix invalide. Veuillez réessayer.\n",
      "1. Repartition de budget\n",
      "2. Analyse de budget\n",
      "3. Quitter\n",
      "Choix invalide. Veuillez réessayer.\n",
      "1. Repartition de budget\n",
      "2. Analyse de budget\n",
      "3. Quitter\n",
      "Choix invalide. Veuillez réessayer.\n",
      "1. Repartition de budget\n",
      "2. Analyse de budget\n",
      "3. Quitter\n",
      "Choix invalide. Veuillez réessayer.\n",
      "1. Repartition de budget\n",
      "2. Analyse de budget\n",
      "3. Quitter\n",
      "Choix invalide. Veuillez réessayer.\n",
      "1. Repartition de budget\n",
      "2. Analyse de budget\n",
      "3. Quitter\n",
      "Choix invalide. Veuillez réessayer.\n",
      "1. Repartition de budget\n",
      "2. Analyse de budget\n",
      "3. Quitter\n",
      "Voici la repartion de votre budget:\n",
      "loyer/ Nouriture / Transport: 250000.0 FCFA\n",
      "epargne: 100000.0 FCFA\n",
      "invest: 100000.0 FCFA\n",
      "loisir: 50000.0 FCFA\n",
      "1. Repartition de budget\n",
      "2. Analyse de budget\n",
      "3. Quitter\n",
      "Merci d'avoir utilisé le programme de gestion de budget.\n"
     ]
    }
   ],
   "source": [
    "print(\"Bienvenue dans le programme de gestion de budget.\\n\")\n",
    "\n",
    "while True:\n",
    "    print(\"1. Repartition de budget\")\n",
    "    print(\"2. Analyse de budget\")\n",
    "    print(\"3. Quitter\")\n",
    "    \n",
    "    choix = input(\"Choisissez une option (1-3): \")\n",
    "    \n",
    "    if choix == \"1\":\n",
    "        repartion_budget()\n",
    "    elif choix == \"2\":\n",
    "        analyse_budget()\n",
    "    elif choix == \"3\":\n",
    "        print(\"Merci d'avoir utilisé le programme de gestion de budget.\")\n",
    "        break\n",
    "    else:\n",
    "        print(\"Choix invalide. Veuillez réessayer.\")"
   ]
  }
 ],
 "metadata": {
  "kernelspec": {
   "display_name": "Python 3",
   "language": "python",
   "name": "python3"
  },
  "language_info": {
   "codemirror_mode": {
    "name": "ipython",
    "version": 3
   },
   "file_extension": ".py",
   "mimetype": "text/x-python",
   "name": "python",
   "nbconvert_exporter": "python",
   "pygments_lexer": "ipython3",
   "version": "3.12.2"
  }
 },
 "nbformat": 4,
 "nbformat_minor": 5
}
